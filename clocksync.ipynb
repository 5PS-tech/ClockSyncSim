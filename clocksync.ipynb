{
 "cells": [
  {
   "cell_type": "code",
   "execution_count": null,
   "metadata": {},
   "outputs": [],
   "source": [
    "%matplotlib inline\n",
    "from clocksync_funcs import *\n",
    "\n",
    "\n",
    "# Set Parameter Values\n",
    "  \n",
    "clock_freq = 40        # oscillator frequency (MHz)\n",
    "freq_tolerance = .5    # frequency stability in %\n",
    "timeslot_period = 1    # timeslot period (milliseconds)\n",
    "node_count = 10        # number of nodes\n",
    "sim_length = 100       # number of timeslots for simulation to run\n",
    "r = 2.41               # r parameter for daisy chain algorithm \n",
    "\n",
    "\n",
    "# Run Simulation\n",
    "\n",
    "clock_sync_sim(adjustment_func=daisy_adj,\n",
    "               clock_freq=clock_freq, \n",
    "               freq_tolerance=freq_tolerance, \n",
    "               timeslot_period=timeslot_period, \n",
    "               node_count=node_count, \n",
    "               sim_length=sim_length, \n",
    "               r=r);\n"
   ]
  }
 ],
 "metadata": {
  "kernelspec": {
   "display_name": "Python 3",
   "language": "python",
   "name": "python3"
  },
  "language_info": {
   "codemirror_mode": {
    "name": "ipython",
    "version": 3
   },
   "file_extension": ".py",
   "mimetype": "text/x-python",
   "name": "python",
   "nbconvert_exporter": "python",
   "pygments_lexer": "ipython3",
   "version": "3.6.1"
  }
 },
 "nbformat": 4,
 "nbformat_minor": 2
}
